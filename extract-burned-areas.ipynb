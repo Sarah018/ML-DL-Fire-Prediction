import numpy as np
import random
import math
import time
import glob
import pandas as pd
import csv
import pdb
import rasterio

start_time = time.time()
inputPath = sorted(glob.glob("/Users/yunxiazhao/Documents/AAA_burnSnow/data8_10km_monthly/data/*.tif"))
inputPath_DEM = sorted(glob.glob("/Users/yunxiazhao/Documents/AAA_burnSnow/data8_10km_monthly/DEM/*.tif"))
for i in range(0, 18):
    if i==0:
        path_b = inputPath[0]
        path_u = inputPath[6]
        path_DEM = inputPath_DEM[0]
    if i==1:
        path_b = inputPath[1]
        path_u = inputPath[7]
        path_DEM = inputPath_DEM[1]
    if i==2:
        path_b = inputPath[2]
        path_u = inputPath[8]
        path_DEM = inputPath_DEM[2]
    if i==3:
        path_b = inputPath[3]
        path_u = inputPath[9]
        path_DEM = inputPath_DEM[3]
    if i==4:
        path_b = inputPath[4]
        path_u = inputPath[10]
        path_DEM = inputPath_DEM[4]
    if i==5:
        path_b = inputPath[5]
        path_u = inputPath[11]
        path_DEM = inputPath_DEM[5]
    if i==6:
        path_b = inputPath[12]
        path_u = inputPath[6]
        path_DEM = inputPath_DEM[0]
    if i==7:
        path_b = inputPath[13]
        path_u = inputPath[7]
        path_DEM = inputPath_DEM[1]
    if i==8:
        path_b = inputPath[14]
        path_u = inputPath[8]
        path_DEM = inputPath_DEM[2]
    if i==9:
        path_b = inputPath[15]
        path_u = inputPath[9]
        path_DEM = inputPath_DEM[3]
    if i==10:
        path_b = inputPath[16]
        path_u = inputPath[10]
        path_DEM = inputPath_DEM[4]
    if i==11:
        path_b = inputPath[17]
        path_u = inputPath[11]
        path_DEM = inputPath_DEM[5]
    if i==12:
        path_b = inputPath[18]
        path_u = inputPath[6]
        path_DEM = inputPath_DEM[0]
    if i==13:
        path_b = inputPath[19]
        path_u = inputPath[7]
        path_DEM = inputPath_DEM[1]
    if i==14:
        path_b = inputPath[20]
        path_u = inputPath[8]
        path_DEM = inputPath_DEM[2]
    if i==15:
        path_b = inputPath[21]
        path_u = inputPath[9]
        path_DEM = inputPath_DEM[3]
    if i==16:
        path_b = inputPath[22]
        path_u = inputPath[10]
        path_DEM = inputPath_DEM[4]
    if i==17:
        path_b = inputPath[23]
        path_u = inputPath[11]
        path_DEM = inputPath_DEM[5]

    file_burn = rasterio.open(path_b)
    total_burn = file_burn.read(1)
    lon_burn = file_burn.read(2)
    lat_burn = file_burn.read(3)
    
    file_unburn = rasterio.open(path_u)
    total_unburn = file_unburn.read(1)
    lon_unburn = file_unburn.read(2)
    lat_unburn = file_unburn.read(3)
    
    file_DEM = rasterio.open(path_DEM)
    total_DEM = file_unburn.read(1)
    lon_DEM = file_unburn.read(2)
    lat_DEM = file_unburn.read(3)
    
    (a, b) = total_burn.shape
    position_tag = -1
    r_item = 25
    c_item = 50
    num_item = int(np.ceil(a/r_item)*np.ceil(b/c_item)) 
    pairs_burn = np.empty(0)
    pairs_unburn = np.empty(0)
    pairs_lon_burn = np.empty(0)
    pairs_lat_burn = np.empty(0)
    pairs_lon_unburn = np.empty(0)
    pairs_lat_unburn = np.empty(0)
    pairs_ID = np.empty(0)
    row = 0
    sum = 0
    for k in range(0, int(np.ceil(a/r_item))):
        row_remain = a - row
        column = 0
        for j in range(0, int(np.ceil(b/c_item))):
            column_remain = b - column
            if row_remain > r_item:
                row_item = r_item
            else:
                row_item = row_remain
            if column_remain > c_item:
                column_item = c_item
            else:
                column_item = column_remain
            item_burn = total_burn[row:row + row_item, column:column + column_item]
            item_lat_burn = lat_burn[row:row + row_item, column:column + column_item]
            item_lon_burn = lon_burn[row:row + row_item, column:column + column_item]
            item_unburn = total_unburn[row:row + row_item, column:column + column_item]
            item_lat_unburn = lat_unburn[row:row + row_item, column:column + column_item]
            item_lon_unburn = lon_unburn[row:row + row_item, column:column + column_item]
            num_burn = np.count_nonzero(~np.isnan(item_burn))
            num_unburn = np.count_nonzero(~np.isnan(item_unburn))
            num_min = min(num_burn, num_unburn)
            if num_min>0:
                position_burn = np.argwhere(~np.isnan(item_burn))
                position_unburn = np.argwhere(~np.isnan(item_unburn))

                index_burn = np.random.choice(position_burn.shape[0], num_min, replace=False)
                position_burn = position_burn[index_burn]
                index_unburn = np.random.choice(position_unburn.shape[0], num_min, replace=False)
                position_unburn = position_unburn[index_unburn]

                position_burn = position_burn.transpose()
                position_unburn = position_unburn.transpose()

                pairs_burn = np.append(pairs_burn, item_burn[position_burn[0, :], position_burn[1,:]])
                pairs_lat_burn = np.append(pairs_lat_burn, item_lat_burn[position_burn[0, :], position_burn[1,:]])
                pairs_lon_burn = np.append(pairs_lon_burn, item_lon_burn[position_burn[0, :], position_burn[1,:]])
                pairs_unburn = np.append(pairs_unburn, item_unburn[position_unburn[0, :], position_unburn[1,:]])
                pairs_lat_unburn = np.append(pairs_lat_unburn, item_lat_unburn[position_unburn[0, :], position_unburn[1,:]])
                pairs_lon_unburn = np.append(pairs_lon_unburn, item_lon_unburn[position_unburn[0, :], position_unburn[1,:]])

                ID = np.arange(sum, sum + num_min)
                pairs_ID = np.append(pairs_ID, ID)
                sum = sum + num_min
            column = column + column_item
        row = row + row_item
    print('path_b:', path_b)
    print('path_u:', path_u)
    print('sum:',sum)
    print("--- %s seconds ---" % (time.time() - start_time))
    
    pairs_burn_all = np.zeros((sum, 4))
    pairs_unburn_all  = np.zeros((sum, 4))
    pairs_burn_all[:,0] = pairs_ID
    pairs_burn_all[:,1] = pairs_burn
    pairs_burn_all[:,2] = pairs_lon_burn
    pairs_burn_all[:,3] = pairs_lat_burn
    pairs_unburn_all[:,0] = pairs_ID
    pairs_unburn_all[:,1] = pairs_unburn
    pairs_unburn_all[:,2] = pairs_lon_unburn
    pairs_unburn_all[:,3] = pairs_lat_unburn
    
    max = 100000
    header = ['ObjectID', 'BurnDate', 'lon', 'lat']
    if (sum < max):
        outputCsv_burn = path_b[0:-4] +  '_burn_' + str(sum + 1) + '.csv'
        np.savetxt(outputCsv_burn, pairs_burn_all, delimiter=",")
        outputCsv_unburn = path_b[0:-4] +  '_unbn_' + str(sum + 1) + '.csv'
        np.savetxt(outputCsv_unburn, pairs_unburn_all, delimiter=",")

        with open(outputCsv_burn, 'w', newline='') as f:
            w = csv.writer(f)
            w.writerow(header)
            w.writerows(pairs_burn_all)
        with open(outputCsv_unburn, 'w', newline='') as f:
            w = csv.writer(f)
            w.writerow(header)
            w.writerows(pairs_unburn_all)
            
    if(sum >= max):
        if (int(sum/max)==1):
            outputCsv_burn_1 = path_b[0:-4]  +  '_burn_1_'+ str(max) + '.csv'
            np.savetxt(outputCsv_burn_1, pairs_burn_all[0:max, :], delimiter=",")
            outputCsv_unburn_1 = path_b[0:-4]  +  '_unbn_1_'+ str(max) + '.csv'
            np.savetxt(outputCsv_unburn_1, pairs_unburn_all[0:max, :], delimiter=",")

            outputCsv_burn_2 = path_b[0:-4]  +  '_burn_2_'+ str(sum + 1 - max) + '.csv'
            np.savetxt(outputCsv_burn_2, pairs_burn_all[max:sum + 1, :], delimiter=",")
            outputCsv_unburn_2 = path_b[0:-4] +  '_unbn_2_' + str(sum + 1 - max) + '.csv'
            np.savetxt(outputCsv_unburn_2, pairs_unburn_all[max:sum + 1, :], delimiter=",")
            
            with open(outputCsv_burn_1, 'w', newline='') as f:
                w = csv.writer(f)
                w.writerow(header)
                w.writerows(pairs_burn_all[0:max, :])
            with open(outputCsv_unburn_1, 'w', newline='') as f:
                w = csv.writer(f)
                w.writerow(header)
                w.writerows(pairs_unburn_all[0:max, :])


            with open(outputCsv_burn_2, 'w', newline='') as f:
                w = csv.writer(f)
                w.writerow(header)
                w.writerows(pairs_burn_all[max:sum + 1, :])
            with open(outputCsv_unburn_2, 'w', newline='') as f:
                w = csv.writer(f)
                w.writerow(header)
                w.writerows(pairs_unburn_all[max:sum + 1, :])    
            
        if (int(sum/max)==2):
            outputCsv_burn_1 = path_b[0:-4]  +  '_burn_1_'+ str(max) + '.csv'
            np.savetxt(outputCsv_burn_1, pairs_burn_all[0:max, :], delimiter=",")
            outputCsv_unburn_1 = path_b[0:-4]  +  '_unbn_1_'+ str(max) + '.csv'
            np.savetxt(outputCsv_unburn_1, pairs_unburn_all[0:max, :], delimiter=",")

            outputCsv_burn_2 = path_b[0:-4]  +  '_burn_2_'+ str(max) + '.csv'
            np.savetxt(outputCsv_burn_2, pairs_burn_all[max:max + max, :], delimiter=",")
            outputCsv_unburn_2 = path_b[0:-4] +  '_unbn_2_' + str(max) + '.csv'
            np.savetxt(outputCsv_unburn_2, pairs_unburn_all[max:max + max, :], delimiter=",")

            outputCsv_burn_3 = path_b[0:-4]  +  '_burn_3_'+ str(sum + 1 - max -max ) + '.csv'
            np.savetxt(outputCsv_burn_2, pairs_burn_all[max+max:sum + 1, :], delimiter=",")
            outputCsv_unburn_3 = path_b[0:-4] +  '_unbn_3_' + str(sum + 1 - max -max ) + '.csv'
            np.savetxt(outputCsv_unburn_2, pairs_unburn_all[max+max:sum + 1, :], delimiter=",")
       
    
            with open(outputCsv_burn_1, 'w', newline='') as f:
                w = csv.writer(f)
                w.writerow(header)
                w.writerows(pairs_burn_all[0:max, :])
            with open(outputCsv_unburn_1, 'w', newline='') as f:
                w = csv.writer(f)
                w.writerow(header)
                w.writerows(pairs_unburn_all[0:max, :])

            with open(outputCsv_burn_2, 'w', newline='') as f:
                w = csv.writer(f)
                w.writerow(header)
                w.writerows(pairs_burn_all[max:max + max, :])
            with open(outputCsv_unburn_2, 'w', newline='') as f:
                w = csv.writer(f)
                w.writerow(header)
                w.writerows(pairs_unburn_all[max:max + max, :])             
                    
            with open(outputCsv_burn_3, 'w', newline='') as f:
                w = csv.writer(f)
                w.writerow(header)
                w.writerows(pairs_burn_all[max+max:sum + 1, :])
            with open(outputCsv_unburn_3, 'w', newline='') as f:
                w = csv.writer(f)
                w.writerow(header)
                w.writerows(pairs_unburn_all[max+max:sum + 1, :])             
                
                
        if (int(sum/max)==3):
            outputCsv_burn_1 = path_b[0:-4]  +  '_burn_1_'+ str(max) + '.csv'
            np.savetxt(outputCsv_burn_1, pairs_burn_all[0:max, :], delimiter=",")
            outputCsv_unburn_1 = path_b[0:-4]  +  '_unbn_1_'+ str(max) + '.csv'
            np.savetxt(outputCsv_unburn_1, pairs_unburn_all[0:max, :], delimiter=",")

            outputCsv_burn_2 = path_b[0:-4]  +  '_burn_2_'+ str(max) + '.csv'
            np.savetxt(outputCsv_burn_2, pairs_burn_all[max:max + max, :], delimiter=",")
            outputCsv_unburn_2 = path_b[0:-4] +  '_unbn_2_' + str(max) + '.csv'
            np.savetxt(outputCsv_unburn_2, pairs_unburn_all[max:max + max, :], delimiter=",")
            
            outputCsv_burn_3 = path_b[0:-4]  +  '_burn_3_'+ str(max) + '.csv'
            np.savetxt(outputCsv_burn_2, pairs_burn_all[max+ max:max + max+ max, :], delimiter=",")
            outputCsv_unburn_3 = path_b[0:-4] +  '_unbn_3_' + str(max) + '.csv'
            np.savetxt(outputCsv_unburn_2, pairs_unburn_all[max+ max:max + max+ max, :], delimiter=",")

            outputCsv_burn_4 = path_b[0:-4]  +  '_burn_4_'+ str(sum + 1 - max -max -max) + '.csv'
            np.savetxt(outputCsv_burn_2, pairs_burn_all[max+max+ max:sum + 1, :], delimiter=",")
            outputCsv_unburn_4 = path_b[0:-4] +  '_unbn_4_' + str(sum + 1 - max -max -max) + '.csv'
            np.savetxt(outputCsv_unburn_2, pairs_unburn_all[max+max+ max:sum + 1, :], delimiter=",")
       
    
            with open(outputCsv_burn_1, 'w', newline='') as f:
                w = csv.writer(f)
                w.writerow(header)
                w.writerows(pairs_burn_all[0:max, :])
            with open(outputCsv_unburn_1, 'w', newline='') as f:
                w = csv.writer(f)
                w.writerow(header)
                w.writerows(pairs_unburn_all[0:max, :])

            with open(outputCsv_burn_2, 'w', newline='') as f:
                w = csv.writer(f)
                w.writerow(header)
                w.writerows(pairs_burn_all[max:max + max, :])
            with open(outputCsv_unburn_2, 'w', newline='') as f:
                w = csv.writer(f)
                w.writerow(header)
                w.writerows(pairs_unburn_all[max:max + max, :])             
            
            with open(outputCsv_burn_3, 'w', newline='') as f:
                w = csv.writer(f)
                w.writerow(header)
                w.writerows(pairs_burn_all[max+ max:max + max+ max, :])
            with open(outputCsv_unburn_3, 'w', newline='') as f:
                w = csv.writer(f)
                w.writerow(header)
                w.writerows(pairs_unburn_all[max+ max:max + max+ max, :])   
                
                
            with open(outputCsv_burn_4, 'w', newline='') as f:
                w = csv.writer(f)
                w.writerow(header)
                w.writerows(pairs_burn_all[max+max+ max:sum + 1, :])
            with open(outputCsv_unburn_4, 'w', newline='') as f:
                w = csv.writer(f)
                w.writerow(header)
                w.writerows(pairs_unburn_all[max+max+ max:sum + 1, :])             
